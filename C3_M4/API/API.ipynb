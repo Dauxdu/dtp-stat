{
 "cells": [
  {
   "cell_type": "markdown",
   "metadata": {},
   "source": [
    "# Модуль 4"
   ]
  },
  {
   "cell_type": "markdown",
   "metadata": {},
   "source": [
    "## 4.2 Разработка API"
   ]
  },
  {
   "cell_type": "code",
   "execution_count": 2,
   "metadata": {},
   "outputs": [
    {
     "name": "stdout",
     "output_type": "stream",
     "text": [
      "\n"
     ]
    }
   ],
   "source": [
    "# Загрузка библиотек\n",
    "from tkinter import *\n",
    "from tkinter.filedialog import askopenfilename\n",
    "\n",
    "#Создание функции на кликание кнопки\n",
    "def click_button():\n",
    "    filename = askopenfilename() #Открывает диалог загрузки файла в промбота\n",
    "    print(filename)\n",
    "\n",
    "#Скелет окна\n",
    "root = Tk()\n",
    "root.title(\"API\") #Название окна\n",
    "root.geometry(\"500x200\") #Размер окна\n",
    "\n",
    "main_menu = Menu() #Добавление меню\n",
    " \n",
    "file_menu = Menu()\n",
    "file_menu.add_command(label=\"Открыть\")\n",
    "file_menu.add_command(label=\"Сохранить\")\n",
    "file_menu.add_separator()\n",
    "file_menu.add_command(label=\"Выход\")\n",
    " \n",
    " \n",
    "main_menu.add_cascade(label=\"Файл\", menu=file_menu)\n",
    "main_menu.add_cascade(label=\"Редактировать\")\n",
    "main_menu.add_cascade(label=\"Просмотр\")\n",
    " \n",
    "root.config(menu=main_menu)\n",
    " \n",
    "btn = Button(text=\"Нажмите на кнопку для загрузки файла в промбота\", #Текст кнопки \n",
    "             background=\"#555\", #Фоновый цвет кнопки\n",
    "             foreground=\"#ccc\", #Цвет текста\n",
    "             padx=\"32\", #Отступ от границ до содержимого по горизонтали\n",
    "             pady=\"6\", #Отступ от границ до содержимого по вертикали\n",
    "             font=\"16\",\n",
    "             command=click_button #Высота шрифта\n",
    "             )\n",
    "btn.place(x=25, y=75)\n",
    "\n",
    "root.mainloop()"
   ]
  },
  {
   "cell_type": "code",
   "execution_count": null,
   "metadata": {},
   "outputs": [],
   "source": []
  }
 ],
 "metadata": {
  "kernelspec": {
   "display_name": "Python 3",
   "language": "python",
   "name": "python3"
  },
  "language_info": {
   "codemirror_mode": {
    "name": "ipython",
    "version": 3
   },
   "file_extension": ".py",
   "mimetype": "text/x-python",
   "name": "python",
   "nbconvert_exporter": "python",
   "pygments_lexer": "ipython3",
   "version": "3.7.4"
  }
 },
 "nbformat": 4,
 "nbformat_minor": 5
}
