{
 "cells": [
  {
   "cell_type": "markdown",
   "metadata": {
    "id": "LAK7jipqUHIG"
   },
   "source": [
    "# Модуль 1"
   ]
  },
  {
   "cell_type": "markdown",
   "metadata": {
    "id": "19eaunX4UjhG"
   },
   "source": [
    "## 1.1 Парсинг данных"
   ]
  },
  {
   "cell_type": "code",
   "execution_count": 24,
   "metadata": {
    "id": "K07-x67CP47R"
   },
   "outputs": [],
   "source": [
    "# Импорт библиотек для работы\n",
    "import re #библиотека поддержки регулярных выражений\n",
    "import json #библиотека для работы с json файлами\n",
    "import requests #библиотека для выполнения HTML запросов\n",
    "import pandas as pd #библиотека для работы с датафреймом\n",
    "from tqdm import notebook #библиотека для красоты\n",
    "from bs4 import BeautifulSoup #библиотека для парсинга HTML"
   ]
  },
  {
   "cell_type": "code",
   "execution_count": 25,
   "metadata": {
    "colab": {
     "base_uri": "https://localhost:8080/",
     "height": 518,
     "referenced_widgets": [
      "b39b006d92d74613b3240b40f7400a28",
      "11ed2f691d9c4cc2a030030c7ace586b",
      "fe5e2230531f4630bdc564943c9c3def",
      "ad4e933fed23418e863077c73a1db97e",
      "e7f639727ae34ef596f0ceb211e59b50",
      "4f8ffea5b8b04bdf80055acbc014f694",
      "100b540273224e22bd7ccc90032c1687",
      "5e65eadfd5484f9b83fe2997c5d42842",
      "b116e07f4d634055a3efb3de6ce282e2",
      "57950a479faa4ecc9bd58a687ad36a43",
      "66c9d4276e904f81b1e9bfe94d7f58b0"
     ]
    },
    "id": "J5p-CiS5K4iV",
    "outputId": "ff358964-befd-4c36-c5dd-03d519513a1d"
   },
   "outputs": [
    {
     "data": {
      "application/vnd.jupyter.widget-view+json": {
       "model_id": "767fddc0bc95488daa2f4c791adc7003",
       "version_major": 2,
       "version_minor": 0
      },
      "text/plain": [
       "  0%|          | 0/85 [00:00<?, ?it/s]"
      ]
     },
     "metadata": {},
     "output_type": "display_data"
    },
    {
     "name": "stdout",
     "output_type": "stream",
     "text": [
      "<class 'pandas.core.frame.DataFrame'>\n",
      "Int64Index: 772284 entries, 0 to 12708\n",
      "Data columns (total 20 columns):\n",
      " #   Column                  Non-Null Count   Dtype \n",
      "---  ------                  --------------   ----- \n",
      " 0   id                      772284 non-null  int64 \n",
      " 1   tags                    772284 non-null  object\n",
      " 2   light                   772284 non-null  object\n",
      " 3   point                   772284 non-null  object\n",
      " 4   nearby                  772284 non-null  object\n",
      " 5   region                  772284 non-null  object\n",
      " 6   scheme                  716323 non-null  object\n",
      " 7   address                 735096 non-null  object\n",
      " 8   weather                 772284 non-null  object\n",
      " 9   category                772284 non-null  object\n",
      " 10  datetime                772284 non-null  object\n",
      " 11  severity                772284 non-null  object\n",
      " 12  vehicles                772284 non-null  object\n",
      " 13  dead_count              772284 non-null  int64 \n",
      " 14  participants            772284 non-null  object\n",
      " 15  injured_count           772284 non-null  int64 \n",
      " 16  parent_region           772284 non-null  object\n",
      " 17  road_conditions         772284 non-null  object\n",
      " 18  participants_count      772284 non-null  int64 \n",
      " 19  participant_categories  772284 non-null  object\n",
      "dtypes: int64(4), object(16)\n",
      "memory usage: 123.7+ MB\n"
     ]
    }
   ],
   "source": [
    "#Парсим данные для работы с WEB-сайта\n",
    "url = f\"https://dtp-stat.ru/opendata/\" #Вводим сайт в переменную URL\n",
    "\n",
    "req = requests.get(url) #Делаем запрос с сайта\n",
    "result = req.content # Берём результат контента сайта\n",
    "\n",
    "soup = BeautifulSoup(result, 'lxml')\n",
    "\n",
    "#Ищем файлы для парсинга с сайта\n",
    "areas_urls_list = []\n",
    "for tag in soup.find_all(\"a\", 'button')[1:]:\n",
    "    area_info = tag.get(\"href\")\n",
    "    areas_urls_list.append('https://dtp-stat.ru/' + area_info)\n",
    "\n",
    "total_data = pd.DataFrame() #Создаём пустой датафрейм для парсинга данных\n",
    "for url in notebook.tqdm(areas_urls_list[:-3]):\n",
    "    data = pd.read_json(url)\n",
    "\n",
    "    data_dict = data['features']\n",
    "\n",
    "    data_from_dict = pd.DataFrame(list(data_dict))\n",
    "\n",
    "    data_geo = data_from_dict['geometry'] #Датасет с геопозицией\n",
    "\n",
    "    data_new = data_from_dict['properties']\n",
    "    data_new = pd.DataFrame(list(data_new))\n",
    "\n",
    "    total_data = pd.concat([total_data, data_new]) #Объединяем старый датаферйм с помощью цикла с новыми\n",
    "\n",
    "total_data.info() #Проверяем информацию о созданном датасете"
   ]
  },
  {
   "cell_type": "markdown",
   "metadata": {
    "id": "j_7INTjDV2Bk"
   },
   "source": [
    "## 1.3 Описание набора данных"
   ]
  },
  {
   "cell_type": "markdown",
   "metadata": {
    "id": "CGnuN-oEV5eK"
   },
   "source": [
    "Исходные данные были представленны:\n",
    "\n",
    "*   `id` - идентификатор\t0% пропущенных значений, большой разброс данных\n",
    "*   `tags` - показатель с оф. сайта ГИБДД\n",
    "*   `light` - время суток\t0% пропущенных значений\n",
    "*   `point` - координаты\t 0% пропущенных значений\n",
    "*   `nearby` - что расположено рядом с проишествием\t0% пропущенных значений\n",
    "*   `region` - регион\t\t0% пропущенных значений\n",
    "*   `address` - адресс\t4.5% пропущенных значений, большой разброс данных\n",
    "*   `weather` - погода\t0% пропущенных значений\n",
    "*   `category` - тип ДТП\t0% пропущенных значений\n",
    "*   `datetime` - дата и время проишествия\t0% пропущенных значений, большой разброс данных\n",
    "*   `severity` - тяжесть ДТП, причинён ли вред здоровью\\какой\t\t0% пропущенных значений\n",
    "*   `vehicles` - описание ТС\t0% пропущенных значений\n",
    "  *   `year` - год выпуска\n",
    "  *   `brand` - бренд\n",
    "  *   `color` - цвет\n",
    "  *   `model` - модель\n",
    "  *   `category` - категория ТС\n",
    "*   `perticipants` - участники ДТП внутри ТС\t0% пропущенных значений\n",
    "  *   `role` - роль участника\n",
    "  *   `gender` - пол участника\n",
    "  *   `violations` - нарушение правил участником\n",
    "  *   `health_status` - состояние здоровья после ДТП\n",
    "  *   `years_of_driving_experience` - стаж вождения участником\n",
    "*   `dead_count` - кол-во смертей в ДТП\t0% пропущенных значений\n",
    "*   `participants` - участники без ТС\t\t0% пропущенных значений\n",
    "*   `injured_count` - кол-во раненых в ДТП\t0% пропущенных значений\n",
    "*   `parent_region` - Регион\t0% пропущенных значений\n",
    "*   `road_conditions` - состояние дорожного покрытия\t0% пропущенных значений\n",
    "*   `participants_count` - кол-во участников ДТП\t0% пропущенных значений\n",
    "*   `participant_categories` - категория участников\t0% пропущенных значений"
   ]
  },
  {
   "cell_type": "markdown",
   "metadata": {
    "id": "QWK0HVEJUvGt"
   },
   "source": [
    "## 1.2 Предобработка данных и выделение значимых атрибутов"
   ]
  },
  {
   "cell_type": "code",
   "execution_count": 26,
   "metadata": {},
   "outputs": [],
   "source": [
    "#Удаляем ненужные данные для нашего проекта\n",
    "df = total_data.drop(['id','tags', 'nearby', 'scheme', 'weather', 'datetime', 'vehicles', 'dead_count', 'participants', 'participant_categories'], axis=1) #Удаляем ненужные данные\n",
    "df = df.dropna(axis=0) #Удаляем пропущенные значения\n",
    "\n",
    "geopisition = df['point'].copy() #Копируем координаты в новую таблицу\n",
    "df = df.drop(['point'], axis=1) #Удаляем ненужные данные"
   ]
  },
  {
   "cell_type": "code",
   "execution_count": 27,
   "metadata": {},
   "outputs": [
    {
     "data": {
      "text/html": [
       "<div>\n",
       "<style scoped>\n",
       "    .dataframe tbody tr th:only-of-type {\n",
       "        vertical-align: middle;\n",
       "    }\n",
       "\n",
       "    .dataframe tbody tr th {\n",
       "        vertical-align: top;\n",
       "    }\n",
       "\n",
       "    .dataframe thead th {\n",
       "        text-align: right;\n",
       "    }\n",
       "</style>\n",
       "<table border=\"1\" class=\"dataframe\">\n",
       "  <thead>\n",
       "    <tr style=\"text-align: right;\">\n",
       "      <th></th>\n",
       "      <th>light</th>\n",
       "      <th>region</th>\n",
       "      <th>address</th>\n",
       "      <th>category</th>\n",
       "      <th>severity</th>\n",
       "      <th>injured_count</th>\n",
       "      <th>parent_region</th>\n",
       "      <th>road_conditions</th>\n",
       "      <th>participants_count</th>\n",
       "    </tr>\n",
       "  </thead>\n",
       "  <tbody>\n",
       "    <tr>\n",
       "      <th>0</th>\n",
       "      <td>Светлое время суток</td>\n",
       "      <td>Барнаул</td>\n",
       "      <td>г Барнаул, пр-кт Калинина, 16В</td>\n",
       "      <td>Столкновение</td>\n",
       "      <td>Легкий</td>\n",
       "      <td>4</td>\n",
       "      <td>Алтайский край</td>\n",
       "      <td>[Сухое]</td>\n",
       "      <td>5</td>\n",
       "    </tr>\n",
       "    <tr>\n",
       "      <th>2</th>\n",
       "      <td>Светлое время суток</td>\n",
       "      <td>Первомайский район</td>\n",
       "      <td>Р-256 Чуйский тракт Новосибирск - Барнаул - Го...</td>\n",
       "      <td>Столкновение</td>\n",
       "      <td>Тяжёлый</td>\n",
       "      <td>3</td>\n",
       "      <td>Алтайский край</td>\n",
       "      <td>[Сухое]</td>\n",
       "      <td>4</td>\n",
       "    </tr>\n",
       "    <tr>\n",
       "      <th>3</th>\n",
       "      <td>Светлое время суток</td>\n",
       "      <td>Тальменский район</td>\n",
       "      <td>Р-256 Чуйский тракт Новосибирск - Барнаул - Го...</td>\n",
       "      <td>Опрокидывание</td>\n",
       "      <td>Тяжёлый</td>\n",
       "      <td>1</td>\n",
       "      <td>Алтайский край</td>\n",
       "      <td>[Сухое]</td>\n",
       "      <td>2</td>\n",
       "    </tr>\n",
       "    <tr>\n",
       "      <th>4</th>\n",
       "      <td>В темное время суток, освещение отсутствует</td>\n",
       "      <td>Ключевский район</td>\n",
       "      <td>Змеиногорск - Рубцовск - Волчиха - Михайловско...</td>\n",
       "      <td>Наезд на пешехода</td>\n",
       "      <td>С погибшими</td>\n",
       "      <td>0</td>\n",
       "      <td>Алтайский край</td>\n",
       "      <td>[Мокрое]</td>\n",
       "      <td>2</td>\n",
       "    </tr>\n",
       "    <tr>\n",
       "      <th>5</th>\n",
       "      <td>В темное время суток, освещение включено</td>\n",
       "      <td>Барнаул</td>\n",
       "      <td>г Барнаул, ул Солнечная Поляна, 37Б</td>\n",
       "      <td>Наезд на пешехода</td>\n",
       "      <td>Тяжёлый</td>\n",
       "      <td>1</td>\n",
       "      <td>Алтайский край</td>\n",
       "      <td>[Отсутствие элементов обустройства остановочно...</td>\n",
       "      <td>2</td>\n",
       "    </tr>\n",
       "    <tr>\n",
       "      <th>...</th>\n",
       "      <td>...</td>\n",
       "      <td>...</td>\n",
       "      <td>...</td>\n",
       "      <td>...</td>\n",
       "      <td>...</td>\n",
       "      <td>...</td>\n",
       "      <td>...</td>\n",
       "      <td>...</td>\n",
       "      <td>...</td>\n",
       "    </tr>\n",
       "    <tr>\n",
       "      <th>12704</th>\n",
       "      <td>В темное время суток, освещение включено</td>\n",
       "      <td>Борисоглебский район</td>\n",
       "      <td>п Борисоглебский, пл Советская, 1</td>\n",
       "      <td>Наезд на пешехода</td>\n",
       "      <td>Тяжёлый</td>\n",
       "      <td>1</td>\n",
       "      <td>Ярославская область</td>\n",
       "      <td>[Мокрое]</td>\n",
       "      <td>2</td>\n",
       "    </tr>\n",
       "    <tr>\n",
       "      <th>12705</th>\n",
       "      <td>Светлое время суток</td>\n",
       "      <td>Борисоглебский район</td>\n",
       "      <td>УГЛИЧ-РОСТОВ, 68 км</td>\n",
       "      <td>Наезд на стоящее ТС</td>\n",
       "      <td>С погибшими</td>\n",
       "      <td>0</td>\n",
       "      <td>Ярославская область</td>\n",
       "      <td>[Сухое, Отсутствие, плохая различимость горизо...</td>\n",
       "      <td>3</td>\n",
       "    </tr>\n",
       "    <tr>\n",
       "      <th>12706</th>\n",
       "      <td>В темное время суток, освещение отсутствует</td>\n",
       "      <td>Борисоглебский район</td>\n",
       "      <td>БОРИСОГЛЕБ-ЗАЧАТЬЕ, 27 км</td>\n",
       "      <td>Наезд на велосипедиста</td>\n",
       "      <td>С погибшими</td>\n",
       "      <td>0</td>\n",
       "      <td>Ярославская область</td>\n",
       "      <td>[Сухое]</td>\n",
       "      <td>2</td>\n",
       "    </tr>\n",
       "    <tr>\n",
       "      <th>12707</th>\n",
       "      <td>Светлое время суток</td>\n",
       "      <td>Борисоглебский район</td>\n",
       "      <td>УГЛИЧ-РОСТОВ, 70 км</td>\n",
       "      <td>Столкновение</td>\n",
       "      <td>Легкий</td>\n",
       "      <td>1</td>\n",
       "      <td>Ярославская область</td>\n",
       "      <td>[Сухое, Отсутствие, плохая различимость горизо...</td>\n",
       "      <td>3</td>\n",
       "    </tr>\n",
       "    <tr>\n",
       "      <th>12708</th>\n",
       "      <td>Светлое время суток</td>\n",
       "      <td>Борисоглебский район</td>\n",
       "      <td>УГЛИЧ-РОСТОВ, 69 км</td>\n",
       "      <td>Съезд с дороги</td>\n",
       "      <td>Тяжёлый</td>\n",
       "      <td>1</td>\n",
       "      <td>Ярославская область</td>\n",
       "      <td>[Иные недостатки, Сухое, Отсутствие, плохая ра...</td>\n",
       "      <td>1</td>\n",
       "    </tr>\n",
       "  </tbody>\n",
       "</table>\n",
       "<p>735096 rows × 9 columns</p>\n",
       "</div>"
      ],
      "text/plain": [
       "                                             light                region  \\\n",
       "0                              Светлое время суток               Барнаул   \n",
       "2                              Светлое время суток    Первомайский район   \n",
       "3                              Светлое время суток     Тальменский район   \n",
       "4      В темное время суток, освещение отсутствует      Ключевский район   \n",
       "5         В темное время суток, освещение включено               Барнаул   \n",
       "...                                            ...                   ...   \n",
       "12704     В темное время суток, освещение включено  Борисоглебский район   \n",
       "12705                          Светлое время суток  Борисоглебский район   \n",
       "12706  В темное время суток, освещение отсутствует  Борисоглебский район   \n",
       "12707                          Светлое время суток  Борисоглебский район   \n",
       "12708                          Светлое время суток  Борисоглебский район   \n",
       "\n",
       "                                                 address  \\\n",
       "0                         г Барнаул, пр-кт Калинина, 16В   \n",
       "2      Р-256 Чуйский тракт Новосибирск - Барнаул - Го...   \n",
       "3      Р-256 Чуйский тракт Новосибирск - Барнаул - Го...   \n",
       "4      Змеиногорск - Рубцовск - Волчиха - Михайловско...   \n",
       "5                    г Барнаул, ул Солнечная Поляна, 37Б   \n",
       "...                                                  ...   \n",
       "12704                  п Борисоглебский, пл Советская, 1   \n",
       "12705                                УГЛИЧ-РОСТОВ, 68 км   \n",
       "12706                          БОРИСОГЛЕБ-ЗАЧАТЬЕ, 27 км   \n",
       "12707                                УГЛИЧ-РОСТОВ, 70 км   \n",
       "12708                                УГЛИЧ-РОСТОВ, 69 км   \n",
       "\n",
       "                     category     severity  injured_count  \\\n",
       "0                Столкновение       Легкий              4   \n",
       "2                Столкновение      Тяжёлый              3   \n",
       "3               Опрокидывание      Тяжёлый              1   \n",
       "4           Наезд на пешехода  С погибшими              0   \n",
       "5           Наезд на пешехода      Тяжёлый              1   \n",
       "...                       ...          ...            ...   \n",
       "12704       Наезд на пешехода      Тяжёлый              1   \n",
       "12705     Наезд на стоящее ТС  С погибшими              0   \n",
       "12706  Наезд на велосипедиста  С погибшими              0   \n",
       "12707            Столкновение       Легкий              1   \n",
       "12708          Съезд с дороги      Тяжёлый              1   \n",
       "\n",
       "             parent_region                                    road_conditions  \\\n",
       "0           Алтайский край                                            [Сухое]   \n",
       "2           Алтайский край                                            [Сухое]   \n",
       "3           Алтайский край                                            [Сухое]   \n",
       "4           Алтайский край                                           [Мокрое]   \n",
       "5           Алтайский край  [Отсутствие элементов обустройства остановочно...   \n",
       "...                    ...                                                ...   \n",
       "12704  Ярославская область                                           [Мокрое]   \n",
       "12705  Ярославская область  [Сухое, Отсутствие, плохая различимость горизо...   \n",
       "12706  Ярославская область                                            [Сухое]   \n",
       "12707  Ярославская область  [Сухое, Отсутствие, плохая различимость горизо...   \n",
       "12708  Ярославская область  [Иные недостатки, Сухое, Отсутствие, плохая ра...   \n",
       "\n",
       "       participants_count  \n",
       "0                       5  \n",
       "2                       4  \n",
       "3                       2  \n",
       "4                       2  \n",
       "5                       2  \n",
       "...                   ...  \n",
       "12704                   2  \n",
       "12705                   3  \n",
       "12706                   2  \n",
       "12707                   3  \n",
       "12708                   1  \n",
       "\n",
       "[735096 rows x 9 columns]"
      ]
     },
     "execution_count": 27,
     "metadata": {},
     "output_type": "execute_result"
    }
   ],
   "source": [
    "df"
   ]
  },
  {
   "cell_type": "code",
   "execution_count": 28,
   "metadata": {},
   "outputs": [
    {
     "data": {
      "text/plain": [
       "0        {'lat': 53.361674, 'long': 83.770891}\n",
       "2        {'lat': 53.379437, 'long': 83.997624}\n",
       "3         {'lat': 53.852527, 'long': 83.47219}\n",
       "4         {'lat': 52.21802, 'long': 79.190655}\n",
       "5        {'lat': 53.358966, 'long': 83.659204}\n",
       "                         ...                  \n",
       "12704           {'lat': 57.26, 'long': 39.154}\n",
       "12705     {'lat': 57.270551, 'long': 39.13197}\n",
       "12706          {'lat': 57.149, 'long': 37.794}\n",
       "12707    {'lat': 57.261182, 'long': 39.153482}\n",
       "12708    {'lat': 57.272106, 'long': 39.154383}\n",
       "Name: point, Length: 735096, dtype: object"
      ]
     },
     "execution_count": 28,
     "metadata": {},
     "output_type": "execute_result"
    }
   ],
   "source": [
    "geopisition"
   ]
  },
  {
   "cell_type": "markdown",
   "metadata": {},
   "source": [
    "### Визуализация зависимостей данных"
   ]
  },
  {
   "cell_type": "code",
   "execution_count": 29,
   "metadata": {},
   "outputs": [
    {
     "data": {
      "image/png": "[encoded data removed]",
      "text/plain": [
       "<Figure size 432x288 with 2 Axes>"
      ]
     },
     "metadata": {
      "needs_background": "light"
     },
     "output_type": "display_data"
    }
   ],
   "source": [
    "# Импорт библиотеки\n",
    "import seaborn as sns\n",
    "# Отображение тепловой карты\n",
    "sns.heatmap(df.corr());"
   ]
  },
  {
   "cell_type": "code",
   "execution_count": 30,
   "metadata": {},
   "outputs": [
    {
     "data": {
      "image/png": "[encoded data removed]",
      "text/plain": [
       "<Figure size 720x720 with 4 Axes>"
      ]
     },
     "metadata": {
      "needs_background": "light"
     },
     "output_type": "display_data"
    }
   ],
   "source": [
    "# Импорт библиотеки\n",
    "from pandas.plotting import scatter_matrix\n",
    "# Отображение матрицы\n",
    "scatter_matrix(df, alpha=0.05, figsize=(10, 10));"
   ]
  },
  {
   "cell_type": "markdown",
   "metadata": {},
   "source": [
    "Из визуализации данных видно, что кол-во участников в ДТП не коррелирует с кол-вом пострадавших в ДТП"
   ]
  },
  {
   "cell_type": "markdown",
   "metadata": {
    "id": "zT2fBa40d9sc"
   },
   "source": [
    "Для продолжения работы нужно понять, какие признаки нам будут нужны, а какие нет. Убираем данные, которые по логике нам не нужны, а именно:\n",
    "*   `id` - признак не несёт в себе информации по статистике ДТП\n",
    "*   `tags` - признак не несёт в себе информации по статистике ДТП\n",
    "*   `scheme` - признак не несёт в себе информации по статистике ДТП\n",
    "*   `datetime` - признак не несёт в себе информации по статистике ДТП\n",
    "*   `weather` - признак не зависящий от человеческой воли\n",
    "*   `vehicles` - признак, который не поможет определить влияние на кластеры\n",
    "*   `nearby` - признак, который содержит объекты, находящиеся рядом с ДТП\n",
    "\n",
    "\n"
   ]
  },
  {
   "cell_type": "markdown",
   "metadata": {
    "id": "oFbGjDg4U7x6"
   },
   "source": [
    "## 1.4 Отчёт"
   ]
  },
  {
   "cell_type": "code",
   "execution_count": 31,
   "metadata": {
    "id": "EtAKjcAtO23r"
   },
   "outputs": [],
   "source": [
    "#Сохранение в CSV\n",
    "df.to_csv('C3_M1.csv')\n",
    "geopisition.to_csv('Geoposition.csv')"
   ]
  },
  {
   "cell_type": "code",
   "execution_count": 32,
   "metadata": {
    "id": "8kEEN4t3TZPa"
   },
   "outputs": [
    {
     "name": "stderr",
     "output_type": "stream",
     "text": [
      "[NbConvertApp] Converting notebook C3_M1.ipynb to html\n",
      "[NbConvertApp] Writing 317768 bytes to C3_M1.html\n"
     ]
    }
   ],
   "source": [
    "#Сохранение HTML\n",
    "!jupyter nbconvert C3_M1.ipynb --to html"
   ]
  }
 ],
 "metadata": {
  "colab": {
   "collapsed_sections": [],
   "name": "M1.ipynb",
   "provenance": []
  },
  "kernelspec": {
   "display_name": "Python 3",
   "language": "python",
   "name": "python3"
  },
  "language_info": {
   "codemirror_mode": {
    "name": "ipython",
    "version": 3
   },
   "file_extension": ".py",
   "mimetype": "text/x-python",
   "name": "python",
   "nbconvert_exporter": "python",
   "pygments_lexer": "ipython3",
   "version": "3.7.4"
  },
  "widgets": {
   "application/vnd.jupyter.widget-state+json": {
    "100b540273224e22bd7ccc90032c1687": {
     "model_module": "@jupyter-widgets/base",
     "model_module_version": "1.2.0",
     "model_name": "LayoutModel",
     "state": {
      "_model_module": "@jupyter-widgets/base",
      "_model_module_version": "1.2.0",
      "_model_name": "LayoutModel",
      "_view_count": null,
      "_view_module": "@jupyter-widgets/base",
      "_view_module_version": "1.2.0",
      "_view_name": "LayoutView",
      "align_content": null,
      "align_items": null,
      "align_self": null,
      "border": null,
      "bottom": null,
      "display": null,
      "flex": null,
      "flex_flow": null,
      "grid_area": null,
      "grid_auto_columns": null,
      "grid_auto_flow": null,
      "grid_auto_rows": null,
      "grid_column": null,
      "grid_gap": null,
      "grid_row": null,
      "grid_template_areas": null,
      "grid_template_columns": null,
      "grid_template_rows": null,
      "height": null,
      "justify_content": null,
      "justify_items": null,
      "left": null,
      "margin": null,
      "max_height": null,
      "max_width": null,
      "min_height": null,
      "min_width": null,
      "object_fit": null,
      "object_position": null,
      "order": null,
      "overflow": null,
      "overflow_x": null,
      "overflow_y": null,
      "padding": null,
      "right": null,
      "top": null,
      "visibility": null,
      "width": null
     }
    },
    "11ed2f691d9c4cc2a030030c7ace586b": {
     "model_module": "@jupyter-widgets/base",
     "model_module_version": "1.2.0",
     "model_name": "LayoutModel",
     "state": {
      "_model_module": "@jupyter-widgets/base",
      "_model_module_version": "1.2.0",
      "_model_name": "LayoutModel",
      "_view_count": null,
      "_view_module": "@jupyter-widgets/base",
      "_view_module_version": "1.2.0",
      "_view_name": "LayoutView",
      "align_content": null,
      "align_items": null,
      "align_self": null,
      "border": null,
      "bottom": null,
      "display": null,
      "flex": null,
      "flex_flow": null,
      "grid_area": null,
      "grid_auto_columns": null,
      "grid_auto_flow": null,
      "grid_auto_rows": null,
      "grid_column": null,
      "grid_gap": null,
      "grid_row": null,
      "grid_template_areas": null,
      "grid_template_columns": null,
      "grid_template_rows": null,
      "height": null,
      "justify_content": null,
      "justify_items": null,
      "left": null,
      "margin": null,
      "max_height": null,
      "max_width": null,
      "min_height": null,
      "min_width": null,
      "object_fit": null,
      "object_position": null,
      "order": null,
      "overflow": null,
      "overflow_x": null,
      "overflow_y": null,
      "padding": null,
      "right": null,
      "top": null,
      "visibility": null,
      "width": null
     }
    },
    "4f8ffea5b8b04bdf80055acbc014f694": {
     "model_module": "@jupyter-widgets/controls",
     "model_module_version": "1.5.0",
     "model_name": "DescriptionStyleModel",
     "state": {
      "_model_module": "@jupyter-widgets/controls",
      "_model_module_version": "1.5.0",
      "_model_name": "DescriptionStyleModel",
      "_view_count": null,
      "_view_module": "@jupyter-widgets/base",
      "_view_module_version": "1.2.0",
      "_view_name": "StyleView",
      "description_width": ""
     }
    },
    "57950a479faa4ecc9bd58a687ad36a43": {
     "model_module": "@jupyter-widgets/controls",
     "model_module_version": "1.5.0",
     "model_name": "DescriptionStyleModel",
     "state": {
      "_model_module": "@jupyter-widgets/controls",
      "_model_module_version": "1.5.0",
      "_model_name": "DescriptionStyleModel",
      "_view_count": null,
      "_view_module": "@jupyter-widgets/base",
      "_view_module_version": "1.2.0",
      "_view_name": "StyleView",
      "description_width": ""
     }
    },
    "5e65eadfd5484f9b83fe2997c5d42842": {
     "model_module": "@jupyter-widgets/controls",
     "model_module_version": "1.5.0",
     "model_name": "ProgressStyleModel",
     "state": {
      "_model_module": "@jupyter-widgets/controls",
      "_model_module_version": "1.5.0",
      "_model_name": "ProgressStyleModel",
      "_view_count": null,
      "_view_module": "@jupyter-widgets/base",
      "_view_module_version": "1.2.0",
      "_view_name": "StyleView",
      "bar_color": null,
      "description_width": ""
     }
    },
    "66c9d4276e904f81b1e9bfe94d7f58b0": {
     "model_module": "@jupyter-widgets/base",
     "model_module_version": "1.2.0",
     "model_name": "LayoutModel",
     "state": {
      "_model_module": "@jupyter-widgets/base",
      "_model_module_version": "1.2.0",
      "_model_name": "LayoutModel",
      "_view_count": null,
      "_view_module": "@jupyter-widgets/base",
      "_view_module_version": "1.2.0",
      "_view_name": "LayoutView",
      "align_content": null,
      "align_items": null,
      "align_self": null,
      "border": null,
      "bottom": null,
      "display": null,
      "flex": null,
      "flex_flow": null,
      "grid_area": null,
      "grid_auto_columns": null,
      "grid_auto_flow": null,
      "grid_auto_rows": null,
      "grid_column": null,
      "grid_gap": null,
      "grid_row": null,
      "grid_template_areas": null,
      "grid_template_columns": null,
      "grid_template_rows": null,
      "height": null,
      "justify_content": null,
      "justify_items": null,
      "left": null,
      "margin": null,
      "max_height": null,
      "max_width": null,
      "min_height": null,
      "min_width": null,
      "object_fit": null,
      "object_position": null,
      "order": null,
      "overflow": null,
      "overflow_x": null,
      "overflow_y": null,
      "padding": null,
      "right": null,
      "top": null,
      "visibility": null,
      "width": null
     }
    },
    "ad4e933fed23418e863077c73a1db97e": {
     "model_module": "@jupyter-widgets/controls",
     "model_module_version": "1.5.0",
     "model_name": "FloatProgressModel",
     "state": {
      "_dom_classes": [],
      "_model_module": "@jupyter-widgets/controls",
      "_model_module_version": "1.5.0",
      "_model_name": "FloatProgressModel",
      "_view_count": null,
      "_view_module": "@jupyter-widgets/controls",
      "_view_module_version": "1.5.0",
      "_view_name": "ProgressView",
      "bar_style": "success",
      "description": "",
      "description_tooltip": null,
      "layout": "IPY_MODEL_b116e07f4d634055a3efb3de6ce282e2",
      "max": 85,
      "min": 0,
      "orientation": "horizontal",
      "style": "IPY_MODEL_5e65eadfd5484f9b83fe2997c5d42842",
      "value": 85
     }
    },
    "b116e07f4d634055a3efb3de6ce282e2": {
     "model_module": "@jupyter-widgets/base",
     "model_module_version": "1.2.0",
     "model_name": "LayoutModel",
     "state": {
      "_model_module": "@jupyter-widgets/base",
      "_model_module_version": "1.2.0",
      "_model_name": "LayoutModel",
      "_view_count": null,
      "_view_module": "@jupyter-widgets/base",
      "_view_module_version": "1.2.0",
      "_view_name": "LayoutView",
      "align_content": null,
      "align_items": null,
      "align_self": null,
      "border": null,
      "bottom": null,
      "display": null,
      "flex": null,
      "flex_flow": null,
      "grid_area": null,
      "grid_auto_columns": null,
      "grid_auto_flow": null,
      "grid_auto_rows": null,
      "grid_column": null,
      "grid_gap": null,
      "grid_row": null,
      "grid_template_areas": null,
      "grid_template_columns": null,
      "grid_template_rows": null,
      "height": null,
      "justify_content": null,
      "justify_items": null,
      "left": null,
      "margin": null,
      "max_height": null,
      "max_width": null,
      "min_height": null,
      "min_width": null,
      "object_fit": null,
      "object_position": null,
      "order": null,
      "overflow": null,
      "overflow_x": null,
      "overflow_y": null,
      "padding": null,
      "right": null,
      "top": null,
      "visibility": null,
      "width": null
     }
    },
    "b39b006d92d74613b3240b40f7400a28": {
     "model_module": "@jupyter-widgets/controls",
     "model_module_version": "1.5.0",
     "model_name": "HBoxModel",
     "state": {
      "_dom_classes": [],
      "_model_module": "@jupyter-widgets/controls",
      "_model_module_version": "1.5.0",
      "_model_name": "HBoxModel",
      "_view_count": null,
      "_view_module": "@jupyter-widgets/controls",
      "_view_module_version": "1.5.0",
      "_view_name": "HBoxView",
      "box_style": "",
      "children": [
       "IPY_MODEL_fe5e2230531f4630bdc564943c9c3def",
       "IPY_MODEL_ad4e933fed23418e863077c73a1db97e",
       "IPY_MODEL_e7f639727ae34ef596f0ceb211e59b50"
      ],
      "layout": "IPY_MODEL_11ed2f691d9c4cc2a030030c7ace586b"
     }
    },
    "e7f639727ae34ef596f0ceb211e59b50": {
     "model_module": "@jupyter-widgets/controls",
     "model_module_version": "1.5.0",
     "model_name": "HTMLModel",
     "state": {
      "_dom_classes": [],
      "_model_module": "@jupyter-widgets/controls",
      "_model_module_version": "1.5.0",
      "_model_name": "HTMLModel",
      "_view_count": null,
      "_view_module": "@jupyter-widgets/controls",
      "_view_module_version": "1.5.0",
      "_view_name": "HTMLView",
      "description": "",
      "description_tooltip": null,
      "layout": "IPY_MODEL_66c9d4276e904f81b1e9bfe94d7f58b0",
      "placeholder": "​",
      "style": "IPY_MODEL_57950a479faa4ecc9bd58a687ad36a43",
      "value": " 85/85 [04:00&lt;00:00,  4.13s/it]"
     }
    },
    "fe5e2230531f4630bdc564943c9c3def": {
     "model_module": "@jupyter-widgets/controls",
     "model_module_version": "1.5.0",
     "model_name": "HTMLModel",
     "state": {
      "_dom_classes": [],
      "_model_module": "@jupyter-widgets/controls",
      "_model_module_version": "1.5.0",
      "_model_name": "HTMLModel",
      "_view_count": null,
      "_view_module": "@jupyter-widgets/controls",
      "_view_module_version": "1.5.0",
      "_view_name": "HTMLView",
      "description": "",
      "description_tooltip": null,
      "layout": "IPY_MODEL_100b540273224e22bd7ccc90032c1687",
      "placeholder": "​",
      "style": "IPY_MODEL_4f8ffea5b8b04bdf80055acbc014f694",
      "value": "100%"
     }
    }
   }
  }
 },
 "nbformat": 4,
 "nbformat_minor": 1
}
